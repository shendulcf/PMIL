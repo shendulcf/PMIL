{
 "cells": [
  {
   "cell_type": "code",
   "execution_count": 12,
   "metadata": {},
   "outputs": [],
   "source": [
    "import os\n",
    "import pandas as pd\n",
    "\n",
    "def target_csv_gen(path,result_dir):\n",
    "\n",
    "    slide_list = os.listdir(path)\n",
    "    slide_list.sort()\n",
    "    case_name,slide_name,label_name = [],[],[]\n",
    "    # print(slide_list)\n",
    "    for slide in slide_list:\n",
    "        # slide_n, suffix = os.path.splitext(slide)\n",
    "        if slide[13] == '1':\n",
    "            label = \"0\"\n",
    "            # label = 'class_0'\n",
    "        else:\n",
    "            label = \"1\"\n",
    "            # label = 'class_1'\n",
    "        # case_n = slide_n[:12]\n",
    "        # case_name.append(case_n)\n",
    "        slide_name.append(slide)\n",
    "        label_name.append(label)\n",
    "    \n",
    "    data = {\"slide\":slide_name,\n",
    "            \"target\":label_name\n",
    "    }\n",
    "    frame = pd.DataFrame(data)\n",
    "    frame.to_csv(result_dir)\n",
    "\n",
    "path = r'E:\\Workspace\\dataset\\test'\n",
    "result = './dataset_csv/target.csv'\n",
    "target_csv_gen(path,result)"
   ]
  },
  {
   "cell_type": "code",
   "execution_count": 25,
   "metadata": {},
   "outputs": [],
   "source": [
    "!python dataPrepare_for_CNN.py "
   ]
  },
  {
   "cell_type": "code",
   "execution_count": 30,
   "metadata": {},
   "outputs": [
    {
     "name": "stdout",
     "output_type": "stream",
     "text": [
      "\n",
      "Number of tiles: 10188\n",
      "\n",
      "Number of tiles: 0\n"
     ]
    },
    {
     "name": "stderr",
     "output_type": "stream",
     "text": [
      "Traceback (most recent call last):\n",
      "  File \"e:\\Workspace\\Project\\PMIL\\max-mil.py\", line 515, in <module>\n",
      "    main()\n",
      "  File \"e:\\Workspace\\Project\\PMIL\\max-mil.py\", line 129, in main\n",
      "    probs, _ = inference(epoch, inference_loader, model)\n",
      "  File \"e:\\Workspace\\Project\\PMIL\\max-mil.py\", line 290, in inference\n",
      "    prefetcher = data_prefetcher(loader)\n",
      "  File \"e:\\Workspace\\Project\\PMIL\\max-mil.py\", line 380, in __init__\n",
      "    self.stream = torch.cuda.Stream()\n",
      "  File \"f:\\Miniconda\\envs\\test\\lib\\site-packages\\torch\\cuda\\streams.py\", line 34, in __new__\n",
      "    with torch.cuda.device(device):\n",
      "  File \"f:\\Miniconda\\envs\\test\\lib\\site-packages\\torch\\cuda\\__init__.py\", line 225, in __enter__\n",
      "    self.prev_idx = torch.cuda.current_device()\n",
      "  File \"f:\\Miniconda\\envs\\test\\lib\\site-packages\\torch\\cuda\\__init__.py\", line 432, in current_device\n",
      "    _lazy_init()\n",
      "  File \"f:\\Miniconda\\envs\\test\\lib\\site-packages\\torch\\cuda\\__init__.py\", line 166, in _lazy_init\n",
      "    raise AssertionError(\"Torch not compiled with CUDA enabled\")\n",
      "AssertionError: Torch not compiled with CUDA enabled\n"
     ]
    }
   ],
   "source": [
    "!python max-mil.py --train_lib E:/Workspace/Project/PMIL/output/lib/cnn_train_data_lib.ckpt --val_lib output/lib/cnn_val_data_lib.ckpt --feat_dir='output/feat' --save_model --save_feat --save_index"
   ]
  }
 ],
 "metadata": {
  "kernelspec": {
   "display_name": "test",
   "language": "python",
   "name": "python3"
  },
  "language_info": {
   "codemirror_mode": {
    "name": "ipython",
    "version": 3
   },
   "file_extension": ".py",
   "mimetype": "text/x-python",
   "name": "python",
   "nbconvert_exporter": "python",
   "pygments_lexer": "ipython3",
   "version": "3.9.12"
  },
  "orig_nbformat": 4,
  "vscode": {
   "interpreter": {
    "hash": "1ba69ead3279dcefa2bd7fda5deb51a7e26be9b05f7bd0cbc7b7763c85faaf54"
   }
  }
 },
 "nbformat": 4,
 "nbformat_minor": 2
}
