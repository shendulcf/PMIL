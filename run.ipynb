{
 "cells": [
  {
   "cell_type": "code",
   "execution_count": 12,
   "metadata": {},
   "outputs": [],
   "source": [
    "import os\n",
    "import pandas as pd\n",
    "\n",
    "def target_csv_gen(path,result_dir):\n",
    "\n",
    "    slide_list = os.listdir(path)\n",
    "    slide_list.sort()\n",
    "    case_name,slide_name,label_name = [],[],[]\n",
    "    # print(slide_list)\n",
    "    for slide in slide_list:\n",
    "        # slide_n, suffix = os.path.splitext(slide)\n",
    "        if slide[13] == '1':\n",
    "            label = \"0\"\n",
    "            # label = 'class_0'\n",
    "        else:\n",
    "            label = \"1\"\n",
    "            # label = 'class_1'\n",
    "        # case_n = slide_n[:12]\n",
    "        # case_name.append(case_n)\n",
    "        slide_name.append(slide)\n",
    "        label_name.append(label)\n",
    "    \n",
    "    data = {\"slide\":slide_name,\n",
    "            \"target\":label_name\n",
    "    }\n",
    "    frame = pd.DataFrame(data)\n",
    "    frame.to_csv(result_dir)\n",
    "\n",
    "path = r'/home/sci/PycharmProjects/chaofan/projects/Datasets/tcga_test'\n",
    "result = './dataset_csv/target.csv'\n",
    "target_csv_gen(path,result)"
   ]
  },
  {
   "cell_type": "code",
   "execution_count": 1,
   "metadata": {},
   "outputs": [],
   "source": [
    "!python dataPrepare_for_CNN.py "
   ]
  },
  {
   "cell_type": "code",
   "execution_count": 6,
   "metadata": {},
   "outputs": [
    {
     "name": "stdout",
     "output_type": "stream",
     "text": [
      "\n",
      "number of tiles: 382393\n",
      "\n",
      "number of tiles: 97583\n",
      "Traceback (most recent call last):\n",
      "  File \"/home/sci/PycharmProjects/chaofan/projects/PMIL/MaxMIL.py\", line 526, in <module>\n",
      "    main()\n",
      "  File \"/home/sci/PycharmProjects/chaofan/projects/PMIL/MaxMIL.py\", line 134, in main\n",
      "    probs, _ = inference(epoch, inference_loader, model)\n",
      "  File \"/home/sci/PycharmProjects/chaofan/projects/PMIL/MaxMIL.py\", line 284, in inference\n",
      "    prefetcher = data_prefetcher(loader) # PyTorch 异步数据预读器，以异步地加载数据\n",
      "  File \"/home/sci/PycharmProjects/chaofan/projects/PMIL/MaxMIL.py\", line 386, in __init__\n",
      "    self.preload()\n",
      "  File \"/home/sci/PycharmProjects/chaofan/projects/PMIL/MaxMIL.py\", line 390, in preload\n",
      "    self.next_input = next(self.loader)\n",
      "  File \"/home/sci/anaconda3/envs/lcf/lib/python3.9/site-packages/torch/utils/data/dataloader.py\", line 681, in __next__\n",
      "    data = self._next_data()\n",
      "  File \"/home/sci/anaconda3/envs/lcf/lib/python3.9/site-packages/torch/utils/data/dataloader.py\", line 1376, in _next_data\n",
      "    return self._process_data(data)\n",
      "  File \"/home/sci/anaconda3/envs/lcf/lib/python3.9/site-packages/torch/utils/data/dataloader.py\", line 1402, in _process_data\n",
      "    data.reraise()\n",
      "  File \"/home/sci/anaconda3/envs/lcf/lib/python3.9/site-packages/torch/_utils.py\", line 461, in reraise\n",
      "    raise exception\n",
      "FileNotFoundError: Caught FileNotFoundError in DataLoader worker process 0.\n",
      "Original Traceback (most recent call last):\n",
      "  File \"/home/sci/anaconda3/envs/lcf/lib/python3.9/site-packages/torch/utils/data/_utils/worker.py\", line 302, in _worker_loop\n",
      "    data = fetcher.fetch(index)\n",
      "  File \"/home/sci/anaconda3/envs/lcf/lib/python3.9/site-packages/torch/utils/data/_utils/fetch.py\", line 49, in fetch\n",
      "    data = [self.dataset[idx] for idx in possibly_batched_index]\n",
      "  File \"/home/sci/anaconda3/envs/lcf/lib/python3.9/site-packages/torch/utils/data/_utils/fetch.py\", line 49, in <listcomp>\n",
      "    data = [self.dataset[idx] for idx in possibly_batched_index]\n",
      "  File \"/home/sci/PycharmProjects/chaofan/projects/PMIL/MaxMIL.py\", line 464, in __getitem__\n",
      "    img = Image.open(img_path)\n",
      "  File \"/home/sci/anaconda3/envs/lcf/lib/python3.9/site-packages/PIL/Image.py\", line 3092, in open\n",
      "    fp = builtins.open(filename, \"rb\")\n",
      "FileNotFoundError: [Errno 2] 没有那个文件或目录: 'TCGA-AA-3502-01A-01-TS1/0_0.jpg'\n",
      "\n"
     ]
    }
   ],
   "source": [
    "!python MaxMIL.py --train_lib output/lib/cnn_train_data_lib.ckpt --val_lib output/lib/cnn_val_data_lib.ckpt --feat_dir='output/feat' --save_model --save_feat --save_index"
   ]
  },
  {
   "cell_type": "code",
   "execution_count": null,
   "metadata": {},
   "outputs": [],
   "source": [
    "!python "
   ]
  }
 ],
 "metadata": {
  "kernelspec": {
   "display_name": "test",
   "language": "python",
   "name": "python3"
  },
  "language_info": {
   "codemirror_mode": {
    "name": "ipython",
    "version": 3
   },
   "file_extension": ".py",
   "mimetype": "text/x-python",
   "name": "python",
   "nbconvert_exporter": "python",
   "pygments_lexer": "ipython3",
   "version": "3.9.12"
  },
  "orig_nbformat": 4,
  "vscode": {
   "interpreter": {
    "hash": "1ba69ead3279dcefa2bd7fda5deb51a7e26be9b05f7bd0cbc7b7763c85faaf54"
   }
  }
 },
 "nbformat": 4,
 "nbformat_minor": 2
}
