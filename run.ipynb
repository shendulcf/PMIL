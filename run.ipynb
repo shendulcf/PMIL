{
 "cells": [
  {
   "cell_type": "code",
   "execution_count": 12,
   "metadata": {},
   "outputs": [],
   "source": [
    "import os\n",
    "import pandas as pd\n",
    "\n",
    "def target_csv_gen(path,result_dir):\n",
    "\n",
    "    slide_list = os.listdir(path)\n",
    "    slide_list.sort()\n",
    "    case_name,slide_name,label_name = [],[],[]\n",
    "    # print(slide_list)\n",
    "    for slide in slide_list:\n",
    "        # slide_n, suffix = os.path.splitext(slide)\n",
    "        if slide[13] == '1':\n",
    "            label = \"0\"\n",
    "            # label = 'class_0'\n",
    "        else:\n",
    "            label = \"1\"\n",
    "            # label = 'class_1'\n",
    "        # case_n = slide_n[:12]\n",
    "        # case_name.append(case_n)\n",
    "        slide_name.append(slide)\n",
    "        label_name.append(label)\n",
    "    \n",
    "    data = {\"slide\":slide_name,\n",
    "            \"target\":label_name\n",
    "    }\n",
    "    frame = pd.DataFrame(data)\n",
    "    frame.to_csv(result_dir)\n",
    "\n",
    "path = r'E:\\Workspace\\dataset\\test'\n",
    "result = './dataset_csv/target.csv'\n",
    "target_csv_gen(path,result)"
   ]
  },
  {
   "cell_type": "code",
   "execution_count": 25,
   "metadata": {},
   "outputs": [],
   "source": [
    "!python dataPrepare_for_CNN.py "
   ]
  },
  {
   "cell_type": "code",
   "execution_count": 2,
   "metadata": {},
   "outputs": [
    {
     "name": "stdout",
     "output_type": "stream",
     "text": [
      "Traceback (most recent call last):\n",
      "  File \"/home/sci/PycharmProjects/chaofan/projects/PMIL/max-mil.py\", line 515, in <module>\n",
      "    main()\n",
      "  File \"/home/sci/PycharmProjects/chaofan/projects/PMIL/max-mil.py\", line 75, in main\n",
      "    model = nn.DataParallel(model, device_ids=args.device_ids)\n",
      "  File \"/home/sci/anaconda3/envs/lcf/lib/python3.9/site-packages/torch/nn/parallel/data_parallel.py\", line 142, in __init__\n",
      "    _check_balance(self.device_ids)\n",
      "  File \"/home/sci/anaconda3/envs/lcf/lib/python3.9/site-packages/torch/nn/parallel/data_parallel.py\", line 23, in _check_balance\n",
      "    dev_props = _get_devices_properties(device_ids)\n",
      "  File \"/home/sci/anaconda3/envs/lcf/lib/python3.9/site-packages/torch/_utils.py\", line 491, in _get_devices_properties\n",
      "    return [_get_device_attr(lambda m: m.get_device_properties(i)) for i in device_ids]\n",
      "  File \"/home/sci/anaconda3/envs/lcf/lib/python3.9/site-packages/torch/_utils.py\", line 491, in <listcomp>\n",
      "    return [_get_device_attr(lambda m: m.get_device_properties(i)) for i in device_ids]\n",
      "  File \"/home/sci/anaconda3/envs/lcf/lib/python3.9/site-packages/torch/_utils.py\", line 474, in _get_device_attr\n",
      "    return get_member(torch.cuda)\n",
      "  File \"/home/sci/anaconda3/envs/lcf/lib/python3.9/site-packages/torch/_utils.py\", line 491, in <lambda>\n",
      "    return [_get_device_attr(lambda m: m.get_device_properties(i)) for i in device_ids]\n",
      "  File \"/home/sci/anaconda3/envs/lcf/lib/python3.9/site-packages/torch/cuda/__init__.py\", line 362, in get_device_properties\n",
      "    raise AssertionError(\"Invalid device id\")\n",
      "AssertionError: Invalid device id\n"
     ]
    }
   ],
   "source": [
    "!python max-mil.py --train_lib output/lib/cnn_train_data_lib.ckpt --val_lib output/lib/cnn_val_data_lib.ckpt --feat_dir='output/feat' --save_model --save_feat --save_index"
   ]
  }
 ],
 "metadata": {
  "kernelspec": {
   "display_name": "test",
   "language": "python",
   "name": "python3"
  },
  "language_info": {
   "codemirror_mode": {
    "name": "ipython",
    "version": 3
   },
   "file_extension": ".py",
   "mimetype": "text/x-python",
   "name": "python",
   "nbconvert_exporter": "python",
   "pygments_lexer": "ipython3",
   "version": "3.9.13"
  },
  "orig_nbformat": 4,
  "vscode": {
   "interpreter": {
    "hash": "1ba69ead3279dcefa2bd7fda5deb51a7e26be9b05f7bd0cbc7b7763c85faaf54"
   }
  }
 },
 "nbformat": 4,
 "nbformat_minor": 2
}
